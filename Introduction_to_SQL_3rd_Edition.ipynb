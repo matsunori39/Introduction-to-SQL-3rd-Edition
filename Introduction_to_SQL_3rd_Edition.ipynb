{
  "nbformat": 4,
  "nbformat_minor": 0,
  "metadata": {
    "colab": {
      "name": "Introduction to SQL 3rd Edition.ipynb",
      "provenance": [],
      "authorship_tag": "ABX9TyNvPQyC5TT6icycfe4W2e1s",
      "include_colab_link": true
    },
    "kernelspec": {
      "name": "python3",
      "display_name": "Python 3"
    },
    "language_info": {
      "name": "python"
    }
  },
  "cells": [
    {
      "cell_type": "markdown",
      "metadata": {
        "id": "view-in-github",
        "colab_type": "text"
      },
      "source": [
        "<a href=\"https://colab.research.google.com/github/matsunori39/Introduction-to-SQL-3rd-Edition/blob/main/Introduction_to_SQL_3rd_Edition.ipynb\" target=\"_parent\"><img src=\"https://colab.research.google.com/assets/colab-badge.svg\" alt=\"Open In Colab\"/></a>"
      ]
    },
    {
      "cell_type": "markdown",
      "source": [
        "https://book.impress.co.jp/books/1121101090"
      ],
      "metadata": {
        "id": "O9COdNCCK-Ts"
      }
    },
    {
      "cell_type": "code",
      "source": [
        "!pip install ipython-sql -q"
      ],
      "metadata": {
        "id": "KXKDrpWVLI1V"
      },
      "execution_count": 1,
      "outputs": []
    },
    {
      "cell_type": "code",
      "source": [
        "# Loading ipython-sql\n",
        "%load_ext sql\n",
        "\n",
        "# Connecting to SQLite\n",
        "%sql sqlite:///tmp.sqlite3"
      ],
      "metadata": {
        "colab": {
          "base_uri": "https://localhost:8080/",
          "height": 36
        },
        "id": "m1Mht2gsLSQi",
        "outputId": "308a00e7-524f-4905-89bf-d45a8520cc47"
      },
      "execution_count": 2,
      "outputs": [
        {
          "output_type": "execute_result",
          "data": {
            "text/plain": [
              "'Connected: @tmp.sqlite3'"
            ],
            "application/vnd.google.colaboratory.intrinsic+json": {
              "type": "string"
            }
          },
          "metadata": {},
          "execution_count": 2
        }
      ]
    },
    {
      "cell_type": "markdown",
      "source": [
        "# Part1 Getting Started with SQL"
      ],
      "metadata": {
        "id": "TUhb48fPLxBW"
      }
    },
    {
      "cell_type": "markdown",
      "source": [
        "## Chapter 1 First SQL"
      ],
      "metadata": {
        "id": "jguUU-5hLyv1"
      }
    },
    {
      "cell_type": "markdown",
      "source": [
        "### 1.2 First SQL"
      ],
      "metadata": {
        "id": "DgdnVeUoMPQW"
      }
    },
    {
      "cell_type": "markdown",
      "source": [
        "#### 1.2.1 Try SQL"
      ],
      "metadata": {
        "id": "CYNYTcRZMUT3"
      }
    },
    {
      "cell_type": "code",
      "source": [
        "%%sql\n",
        "CREATE TABLE book (\n",
        "  date DATE,\n",
        "  item VARCHAR(30),\n",
        "  memo VARCHAR(30),\n",
        "  received INT,\n",
        "  payment INT);\n",
        "INSERT INTO book (date, item, memo, received, payment) VALUES ('2022-02-03', 'Food Expense' , 'Buy Coffee' , 0, 380);\n",
        "INSERT INTO book (date, item, memo, received, payment) VALUES ('2022-02-10', 'Salary' , 'Jan. Salary' , 280000, 0);\n",
        "INSERT INTO book (date, item, memo, received, payment) VALUES ('2022-02-11', 'Culture and Recreation Expenses' , 'Buy Books' , 0, 2800);\n",
        "INSERT INTO book (date, item, memo, received, payment) VALUES ('2022-02-14', 'Entertainment Expenses' , 'Dues for Synchronization Meetings' , 0, 5000);\n",
        "INSERT INTO book (date, item, memo, received, payment) VALUES ('2022-02-18', 'Utilities Charge' , 'Electricity Bill in Jan.' , 0, 7560);"
      ],
      "metadata": {
        "colab": {
          "base_uri": "https://localhost:8080/"
        },
        "id": "MiytIjYVLd4o",
        "outputId": "a2536542-1cda-4014-f7d2-2f8d41247285"
      },
      "execution_count": 3,
      "outputs": [
        {
          "output_type": "stream",
          "name": "stdout",
          "text": [
            " * sqlite:///tmp.sqlite3\n",
            "Done.\n",
            "1 rows affected.\n",
            "1 rows affected.\n",
            "1 rows affected.\n",
            "1 rows affected.\n",
            "1 rows affected.\n"
          ]
        },
        {
          "output_type": "execute_result",
          "data": {
            "text/plain": [
              "[]"
            ]
          },
          "metadata": {},
          "execution_count": 3
        }
      ]
    },
    {
      "cell_type": "markdown",
      "source": [
        "#### 1.2.2 Let's search"
      ],
      "metadata": {
        "id": "mBSPWFGKT0D0"
      }
    },
    {
      "cell_type": "markdown",
      "source": [
        "##### First time search"
      ],
      "metadata": {
        "id": "p4YtKbG9QSSm"
      }
    },
    {
      "cell_type": "code",
      "source": [
        "%%sql\n",
        "SELECT payment\n",
        "  FROM book"
      ],
      "metadata": {
        "colab": {
          "base_uri": "https://localhost:8080/",
          "height": 181
        },
        "id": "5dAAw0p8T-Nz",
        "outputId": "6baf92d9-c11c-4410-a9c5-cae939e617ab"
      },
      "execution_count": 4,
      "outputs": [
        {
          "output_type": "stream",
          "name": "stdout",
          "text": [
            " * sqlite:///tmp.sqlite3\n",
            "Done.\n"
          ]
        },
        {
          "output_type": "execute_result",
          "data": {
            "text/plain": [
              "[(380,), (0,), (2800,), (5000,), (7560,)]"
            ],
            "text/html": [
              "<table>\n",
              "    <thead>\n",
              "        <tr>\n",
              "            <th>payment</th>\n",
              "        </tr>\n",
              "    </thead>\n",
              "    <tbody>\n",
              "        <tr>\n",
              "            <td>380</td>\n",
              "        </tr>\n",
              "        <tr>\n",
              "            <td>0</td>\n",
              "        </tr>\n",
              "        <tr>\n",
              "            <td>2800</td>\n",
              "        </tr>\n",
              "        <tr>\n",
              "            <td>5000</td>\n",
              "        </tr>\n",
              "        <tr>\n",
              "            <td>7560</td>\n",
              "        </tr>\n",
              "    </tbody>\n",
              "</table>"
            ]
          },
          "metadata": {},
          "execution_count": 4
        }
      ]
    },
    {
      "cell_type": "markdown",
      "source": [
        "##### Search all columns"
      ],
      "metadata": {
        "id": "4aSzqSsiQepK"
      }
    },
    {
      "cell_type": "code",
      "source": [
        "%%sql\n",
        "SELECT date, item, memo, received, payment\n",
        "  FROM book"
      ],
      "metadata": {
        "colab": {
          "base_uri": "https://localhost:8080/",
          "height": 267
        },
        "id": "TflOlGBMDZ1i",
        "outputId": "2d6988d5-8edf-496d-ddc9-9620ff53bdd8"
      },
      "execution_count": 5,
      "outputs": [
        {
          "output_type": "stream",
          "name": "stdout",
          "text": [
            " * sqlite:///tmp.sqlite3\n",
            "Done.\n"
          ]
        },
        {
          "output_type": "execute_result",
          "data": {
            "text/plain": [
              "[('2022-02-03', 'Food Expense', 'Buy Coffee', 0, 380),\n",
              " ('2022-02-10', 'Salary', 'Jan. Salary', 280000, 0),\n",
              " ('2022-02-11', 'Culture and Recreation Expenses', 'Buy Books', 0, 2800),\n",
              " ('2022-02-14', 'Entertainment Expenses', 'Dues for Synchronization Meetings', 0, 5000),\n",
              " ('2022-02-18', 'Utilities Charge', 'Electricity Bill in Jan.', 0, 7560)]"
            ],
            "text/html": [
              "<table>\n",
              "    <thead>\n",
              "        <tr>\n",
              "            <th>date</th>\n",
              "            <th>item</th>\n",
              "            <th>memo</th>\n",
              "            <th>received</th>\n",
              "            <th>payment</th>\n",
              "        </tr>\n",
              "    </thead>\n",
              "    <tbody>\n",
              "        <tr>\n",
              "            <td>2022-02-03</td>\n",
              "            <td>Food Expense</td>\n",
              "            <td>Buy Coffee</td>\n",
              "            <td>0</td>\n",
              "            <td>380</td>\n",
              "        </tr>\n",
              "        <tr>\n",
              "            <td>2022-02-10</td>\n",
              "            <td>Salary</td>\n",
              "            <td>Jan. Salary</td>\n",
              "            <td>280000</td>\n",
              "            <td>0</td>\n",
              "        </tr>\n",
              "        <tr>\n",
              "            <td>2022-02-11</td>\n",
              "            <td>Culture and Recreation Expenses</td>\n",
              "            <td>Buy Books</td>\n",
              "            <td>0</td>\n",
              "            <td>2800</td>\n",
              "        </tr>\n",
              "        <tr>\n",
              "            <td>2022-02-14</td>\n",
              "            <td>Entertainment Expenses</td>\n",
              "            <td>Dues for Synchronization Meetings</td>\n",
              "            <td>0</td>\n",
              "            <td>5000</td>\n",
              "        </tr>\n",
              "        <tr>\n",
              "            <td>2022-02-18</td>\n",
              "            <td>Utilities Charge</td>\n",
              "            <td>Electricity Bill in Jan.</td>\n",
              "            <td>0</td>\n",
              "            <td>7560</td>\n",
              "        </tr>\n",
              "    </tbody>\n",
              "</table>"
            ]
          },
          "metadata": {},
          "execution_count": 5
        }
      ]
    },
    {
      "cell_type": "markdown",
      "source": [
        "##### Search all columns (simplified notation)"
      ],
      "metadata": {
        "id": "38CnskZLQiYj"
      }
    },
    {
      "cell_type": "code",
      "source": [
        "%%sql\n",
        "SELECT *\n",
        "  FROM book"
      ],
      "metadata": {
        "colab": {
          "base_uri": "https://localhost:8080/",
          "height": 267
        },
        "id": "VvhnjgW2Dg2I",
        "outputId": "06b45f03-266d-488a-cd75-38d804f60931"
      },
      "execution_count": 6,
      "outputs": [
        {
          "output_type": "stream",
          "name": "stdout",
          "text": [
            " * sqlite:///tmp.sqlite3\n",
            "Done.\n"
          ]
        },
        {
          "output_type": "execute_result",
          "data": {
            "text/plain": [
              "[('2022-02-03', 'Food Expense', 'Buy Coffee', 0, 380),\n",
              " ('2022-02-10', 'Salary', 'Jan. Salary', 280000, 0),\n",
              " ('2022-02-11', 'Culture and Recreation Expenses', 'Buy Books', 0, 2800),\n",
              " ('2022-02-14', 'Entertainment Expenses', 'Dues for Synchronization Meetings', 0, 5000),\n",
              " ('2022-02-18', 'Utilities Charge', 'Electricity Bill in Jan.', 0, 7560)]"
            ],
            "text/html": [
              "<table>\n",
              "    <thead>\n",
              "        <tr>\n",
              "            <th>date</th>\n",
              "            <th>item</th>\n",
              "            <th>memo</th>\n",
              "            <th>received</th>\n",
              "            <th>payment</th>\n",
              "        </tr>\n",
              "    </thead>\n",
              "    <tbody>\n",
              "        <tr>\n",
              "            <td>2022-02-03</td>\n",
              "            <td>Food Expense</td>\n",
              "            <td>Buy Coffee</td>\n",
              "            <td>0</td>\n",
              "            <td>380</td>\n",
              "        </tr>\n",
              "        <tr>\n",
              "            <td>2022-02-10</td>\n",
              "            <td>Salary</td>\n",
              "            <td>Jan. Salary</td>\n",
              "            <td>280000</td>\n",
              "            <td>0</td>\n",
              "        </tr>\n",
              "        <tr>\n",
              "            <td>2022-02-11</td>\n",
              "            <td>Culture and Recreation Expenses</td>\n",
              "            <td>Buy Books</td>\n",
              "            <td>0</td>\n",
              "            <td>2800</td>\n",
              "        </tr>\n",
              "        <tr>\n",
              "            <td>2022-02-14</td>\n",
              "            <td>Entertainment Expenses</td>\n",
              "            <td>Dues for Synchronization Meetings</td>\n",
              "            <td>0</td>\n",
              "            <td>5000</td>\n",
              "        </tr>\n",
              "        <tr>\n",
              "            <td>2022-02-18</td>\n",
              "            <td>Utilities Charge</td>\n",
              "            <td>Electricity Bill in Jan.</td>\n",
              "            <td>0</td>\n",
              "            <td>7560</td>\n",
              "        </tr>\n",
              "    </tbody>\n",
              "</table>"
            ]
          },
          "metadata": {},
          "execution_count": 6
        }
      ]
    },
    {
      "cell_type": "markdown",
      "source": [
        "#### 1.2.3 Conditional Search"
      ],
      "metadata": {
        "id": "rH65vrUyDu3a"
      }
    },
    {
      "cell_type": "markdown",
      "source": [
        "##### Obtain only lines where the amount of withdrawal exceeds &yen;3,000"
      ],
      "metadata": {
        "id": "5YM5PAuUQsgN"
      }
    },
    {
      "cell_type": "code",
      "source": [
        "%%sql\n",
        "SELECT date, item, payment\n",
        "  FROM book\n",
        "  WHERE payment > 3000"
      ],
      "metadata": {
        "id": "MltbeZqtD-oH",
        "colab": {
          "base_uri": "https://localhost:8080/",
          "height": 118
        },
        "outputId": "50e5d64c-3a48-44a4-fbd5-ce945284c885"
      },
      "execution_count": 7,
      "outputs": [
        {
          "output_type": "stream",
          "name": "stdout",
          "text": [
            " * sqlite:///tmp.sqlite3\n",
            "Done.\n"
          ]
        },
        {
          "output_type": "execute_result",
          "data": {
            "text/plain": [
              "[('2022-02-14', 'Entertainment Expenses', 5000),\n",
              " ('2022-02-18', 'Utilities Charge', 7560)]"
            ],
            "text/html": [
              "<table>\n",
              "    <thead>\n",
              "        <tr>\n",
              "            <th>date</th>\n",
              "            <th>item</th>\n",
              "            <th>payment</th>\n",
              "        </tr>\n",
              "    </thead>\n",
              "    <tbody>\n",
              "        <tr>\n",
              "            <td>2022-02-14</td>\n",
              "            <td>Entertainment Expenses</td>\n",
              "            <td>5000</td>\n",
              "        </tr>\n",
              "        <tr>\n",
              "            <td>2022-02-18</td>\n",
              "            <td>Utilities Charge</td>\n",
              "            <td>7560</td>\n",
              "        </tr>\n",
              "    </tbody>\n",
              "</table>"
            ]
          },
          "metadata": {},
          "execution_count": 7
        }
      ]
    },
    {
      "cell_type": "markdown",
      "source": [
        "#### 1.2.4 Let's add some data."
      ],
      "metadata": {
        "id": "Mepx5AtsPTL_"
      }
    },
    {
      "cell_type": "markdown",
      "source": [
        "##### Insert rent payment in March as line"
      ],
      "metadata": {
        "id": "6CEOrcUJR38X"
      }
    },
    {
      "cell_type": "code",
      "source": [
        "%%sql\n",
        "INSERT INTO book\n",
        "  VALUES ('2022-02-25', 'Rent', 'March Rent', 0, 85000)"
      ],
      "metadata": {
        "colab": {
          "base_uri": "https://localhost:8080/"
        },
        "id": "iLY5Ir3uQDEK",
        "outputId": "00362bb8-1720-4483-d6f7-a50ed241a514"
      },
      "execution_count": 8,
      "outputs": [
        {
          "output_type": "stream",
          "name": "stdout",
          "text": [
            " * sqlite:///tmp.sqlite3\n",
            "1 rows affected.\n"
          ]
        },
        {
          "output_type": "execute_result",
          "data": {
            "text/plain": [
              "[]"
            ]
          },
          "metadata": {},
          "execution_count": 8
        }
      ]
    },
    {
      "cell_type": "code",
      "source": [
        "%%sql\n",
        "SELECT * FROM book"
      ],
      "metadata": {
        "colab": {
          "base_uri": "https://localhost:8080/",
          "height": 306
        },
        "id": "P6whLdZAScXI",
        "outputId": "7538c0db-2fae-4aa9-96d3-19367c8bcdb3"
      },
      "execution_count": 9,
      "outputs": [
        {
          "output_type": "stream",
          "name": "stdout",
          "text": [
            " * sqlite:///tmp.sqlite3\n",
            "Done.\n"
          ]
        },
        {
          "output_type": "execute_result",
          "data": {
            "text/plain": [
              "[('2022-02-03', 'Food Expense', 'Buy Coffee', 0, 380),\n",
              " ('2022-02-10', 'Salary', 'Jan. Salary', 280000, 0),\n",
              " ('2022-02-11', 'Culture and Recreation Expenses', 'Buy Books', 0, 2800),\n",
              " ('2022-02-14', 'Entertainment Expenses', 'Dues for Synchronization Meetings', 0, 5000),\n",
              " ('2022-02-18', 'Utilities Charge', 'Electricity Bill in Jan.', 0, 7560),\n",
              " ('2022-02-25', 'Rent', 'March Rent', 0, 85000)]"
            ],
            "text/html": [
              "<table>\n",
              "    <thead>\n",
              "        <tr>\n",
              "            <th>date</th>\n",
              "            <th>item</th>\n",
              "            <th>memo</th>\n",
              "            <th>received</th>\n",
              "            <th>payment</th>\n",
              "        </tr>\n",
              "    </thead>\n",
              "    <tbody>\n",
              "        <tr>\n",
              "            <td>2022-02-03</td>\n",
              "            <td>Food Expense</td>\n",
              "            <td>Buy Coffee</td>\n",
              "            <td>0</td>\n",
              "            <td>380</td>\n",
              "        </tr>\n",
              "        <tr>\n",
              "            <td>2022-02-10</td>\n",
              "            <td>Salary</td>\n",
              "            <td>Jan. Salary</td>\n",
              "            <td>280000</td>\n",
              "            <td>0</td>\n",
              "        </tr>\n",
              "        <tr>\n",
              "            <td>2022-02-11</td>\n",
              "            <td>Culture and Recreation Expenses</td>\n",
              "            <td>Buy Books</td>\n",
              "            <td>0</td>\n",
              "            <td>2800</td>\n",
              "        </tr>\n",
              "        <tr>\n",
              "            <td>2022-02-14</td>\n",
              "            <td>Entertainment Expenses</td>\n",
              "            <td>Dues for Synchronization Meetings</td>\n",
              "            <td>0</td>\n",
              "            <td>5000</td>\n",
              "        </tr>\n",
              "        <tr>\n",
              "            <td>2022-02-18</td>\n",
              "            <td>Utilities Charge</td>\n",
              "            <td>Electricity Bill in Jan.</td>\n",
              "            <td>0</td>\n",
              "            <td>7560</td>\n",
              "        </tr>\n",
              "        <tr>\n",
              "            <td>2022-02-25</td>\n",
              "            <td>Rent</td>\n",
              "            <td>March Rent</td>\n",
              "            <td>0</td>\n",
              "            <td>85000</td>\n",
              "        </tr>\n",
              "    </tbody>\n",
              "</table>"
            ]
          },
          "metadata": {},
          "execution_count": 9
        }
      ]
    },
    {
      "cell_type": "code",
      "source": [
        ""
      ],
      "metadata": {
        "id": "q9vQqr89SwzD"
      },
      "execution_count": null,
      "outputs": []
    }
  ]
}
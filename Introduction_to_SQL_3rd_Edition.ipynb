{
  "nbformat": 4,
  "nbformat_minor": 0,
  "metadata": {
    "colab": {
      "name": "Introduction to SQL 3rd Edition.ipynb",
      "provenance": [],
      "authorship_tag": "ABX9TyOaebJ0f5lAjrNmq2tBUKBH",
      "include_colab_link": true
    },
    "kernelspec": {
      "name": "python3",
      "display_name": "Python 3"
    },
    "language_info": {
      "name": "python"
    }
  },
  "cells": [
    {
      "cell_type": "markdown",
      "metadata": {
        "id": "view-in-github",
        "colab_type": "text"
      },
      "source": [
        "<a href=\"https://colab.research.google.com/github/matsunori39/Introduction-to-SQL-3rd-Edition/blob/main/Introduction_to_SQL_3rd_Edition.ipynb\" target=\"_parent\"><img src=\"https://colab.research.google.com/assets/colab-badge.svg\" alt=\"Open In Colab\"/></a>"
      ]
    },
    {
      "cell_type": "markdown",
      "source": [
        "https://book.impress.co.jp/books/1121101090"
      ],
      "metadata": {
        "id": "O9COdNCCK-Ts"
      }
    },
    {
      "cell_type": "code",
      "source": [
        "!pip install ipython-sql -q"
      ],
      "metadata": {
        "id": "KXKDrpWVLI1V"
      },
      "execution_count": 1,
      "outputs": []
    },
    {
      "cell_type": "code",
      "source": [
        "# Loading ipython-sql\n",
        "%load_ext sql\n",
        "\n",
        "# Connecting to SQLite\n",
        "%sql sqlite:///tmp.sqlite3"
      ],
      "metadata": {
        "colab": {
          "base_uri": "https://localhost:8080/",
          "height": 36
        },
        "id": "m1Mht2gsLSQi",
        "outputId": "a9a64e21-1a1b-4591-d1ea-f15a94927357"
      },
      "execution_count": 2,
      "outputs": [
        {
          "output_type": "execute_result",
          "data": {
            "text/plain": [
              "'Connected: @tmp.sqlite3'"
            ],
            "application/vnd.google.colaboratory.intrinsic+json": {
              "type": "string"
            }
          },
          "metadata": {},
          "execution_count": 2
        }
      ]
    },
    {
      "cell_type": "markdown",
      "source": [
        "# Part1 Getting Started with SQL"
      ],
      "metadata": {
        "id": "TUhb48fPLxBW"
      }
    },
    {
      "cell_type": "markdown",
      "source": [
        "## Chapter 1 First SQL"
      ],
      "metadata": {
        "id": "jguUU-5hLyv1"
      }
    },
    {
      "cell_type": "markdown",
      "source": [
        "### 1.2 First SQL"
      ],
      "metadata": {
        "id": "DgdnVeUoMPQW"
      }
    },
    {
      "cell_type": "markdown",
      "source": [
        "#### 1.2.1 Try SQL"
      ],
      "metadata": {
        "id": "CYNYTcRZMUT3"
      }
    },
    {
      "cell_type": "code",
      "source": [
        "%%sql\n",
        "CREATE TABLE book (\n",
        "  date DATE,\n",
        "  item VARCHAR(30),\n",
        "  memo VARCHAR(30),\n",
        "  received INT,\n",
        "  payment INT);\n",
        "INSERT INTO book (date, item, memo, received, payment) VALUES ('2022-02-03', 'food expense' , 'buy coffee' , 0, 380);\n",
        "INSERT INTO book (date, item, memo, received, payment) VALUES ('2022-02-10', 'salary' , 'Jan. salary' , 280000, 0);\n",
        "INSERT INTO book (date, item, memo, received, payment) VALUES ('2022-02-11', 'culture and recreation expenses' , 'buy books' , 0, 2800);\n",
        "INSERT INTO book (date, item, memo, received, payment) VALUES ('2022-02-14', 'entertainment expenses' , 'dues for synchronization meetings' , 0, 5000);\n",
        "INSERT INTO book (date, item, memo, received, payment) VALUES ('2022-02-18', 'utilities charge' , 'electricity bill in Jan.' , 0, 7560);"
      ],
      "metadata": {
        "colab": {
          "base_uri": "https://localhost:8080/"
        },
        "id": "MiytIjYVLd4o",
        "outputId": "c4929dc0-0ae0-4bf1-e637-8908e422af77"
      },
      "execution_count": 3,
      "outputs": [
        {
          "output_type": "stream",
          "name": "stdout",
          "text": [
            " * sqlite:///tmp.sqlite3\n",
            "Done.\n",
            "1 rows affected.\n",
            "1 rows affected.\n",
            "1 rows affected.\n",
            "1 rows affected.\n",
            "1 rows affected.\n"
          ]
        },
        {
          "output_type": "execute_result",
          "data": {
            "text/plain": [
              "[]"
            ]
          },
          "metadata": {},
          "execution_count": 3
        }
      ]
    },
    {
      "cell_type": "markdown",
      "source": [
        "#### 1.2.2 Let's search"
      ],
      "metadata": {
        "id": "mBSPWFGKT0D0"
      }
    },
    {
      "cell_type": "code",
      "source": [
        "%%sql\n",
        "SELECT payment\n",
        "  FROM book"
      ],
      "metadata": {
        "colab": {
          "base_uri": "https://localhost:8080/",
          "height": 181
        },
        "id": "5dAAw0p8T-Nz",
        "outputId": "a63e8d72-8f35-45fc-e7b9-afabe437afde"
      },
      "execution_count": 4,
      "outputs": [
        {
          "output_type": "stream",
          "name": "stdout",
          "text": [
            " * sqlite:///tmp.sqlite3\n",
            "Done.\n"
          ]
        },
        {
          "output_type": "execute_result",
          "data": {
            "text/plain": [
              "[(380,), (0,), (2800,), (5000,), (7560,)]"
            ],
            "text/html": [
              "<table>\n",
              "    <thead>\n",
              "        <tr>\n",
              "            <th>payment</th>\n",
              "        </tr>\n",
              "    </thead>\n",
              "    <tbody>\n",
              "        <tr>\n",
              "            <td>380</td>\n",
              "        </tr>\n",
              "        <tr>\n",
              "            <td>0</td>\n",
              "        </tr>\n",
              "        <tr>\n",
              "            <td>2800</td>\n",
              "        </tr>\n",
              "        <tr>\n",
              "            <td>5000</td>\n",
              "        </tr>\n",
              "        <tr>\n",
              "            <td>7560</td>\n",
              "        </tr>\n",
              "    </tbody>\n",
              "</table>"
            ]
          },
          "metadata": {},
          "execution_count": 4
        }
      ]
    }
  ]
}